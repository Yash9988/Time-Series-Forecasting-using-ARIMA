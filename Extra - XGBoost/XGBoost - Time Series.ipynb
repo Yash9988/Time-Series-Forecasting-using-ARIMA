{
 "cells": [
  {
   "cell_type": "code",
   "execution_count": 1,
   "metadata": {},
   "outputs": [],
   "source": [
    "import numpy as np\n",
    "from pandas import read_csv\n",
    "from pandas import DataFrame\n",
    "from pandas import concat\n",
    "from sklearn.metrics import mean_absolute_error\n",
    "from xgboost import XGBRegressor\n",
    "import matplotlib.pyplot as plt\n",
    "from datetime import datetime\n",
    "import pandas as pd"
   ]
  },
  {
   "cell_type": "code",
   "execution_count": 2,
   "metadata": {},
   "outputs": [],
   "source": [
    "df = pd.read_csv('testset.csv')\n",
    "df['datetime'] = pd.to_datetime(df['datetime'].apply(lambda x: datetime.strptime(x, \"%Y%m%d-%H:%M\").strftime(\"%Y%m%d %H:%M\")))\n",
    "df = df.set_index('datetime', drop = True)\n",
    "df.index.name = 'datetime'\n",
    "\n",
    "data = df.resample('M').mean().interpolate()\n",
    "#data"
   ]
  },
  {
   "cell_type": "code",
   "execution_count": 3,
   "metadata": {},
   "outputs": [
    {
     "data": {
      "text/html": [
       "<div>\n",
       "<style scoped>\n",
       "    .dataframe tbody tr th:only-of-type {\n",
       "        vertical-align: middle;\n",
       "    }\n",
       "\n",
       "    .dataframe tbody tr th {\n",
       "        vertical-align: top;\n",
       "    }\n",
       "\n",
       "    .dataframe thead th {\n",
       "        text-align: right;\n",
       "    }\n",
       "</style>\n",
       "<table border=\"1\" class=\"dataframe\">\n",
       "  <thead>\n",
       "    <tr style=\"text-align: right;\">\n",
       "      <th></th>\n",
       "      <th>t</th>\n",
       "      <th>t+1</th>\n",
       "      <th>t+2</th>\n",
       "      <th>t+3</th>\n",
       "    </tr>\n",
       "    <tr>\n",
       "      <th>datetime</th>\n",
       "      <th></th>\n",
       "      <th></th>\n",
       "      <th></th>\n",
       "      <th></th>\n",
       "    </tr>\n",
       "  </thead>\n",
       "  <tbody>\n",
       "    <tr>\n",
       "      <th>1997-02-28</th>\n",
       "      <td>15.778777</td>\n",
       "      <td>12.871118</td>\n",
       "      <td>13.816794</td>\n",
       "      <td>19.438944</td>\n",
       "    </tr>\n",
       "    <tr>\n",
       "      <th>1997-03-31</th>\n",
       "      <td>21.137037</td>\n",
       "      <td>15.778777</td>\n",
       "      <td>12.871118</td>\n",
       "      <td>13.816794</td>\n",
       "    </tr>\n",
       "    <tr>\n",
       "      <th>1997-04-30</th>\n",
       "      <td>26.306931</td>\n",
       "      <td>21.137037</td>\n",
       "      <td>15.778777</td>\n",
       "      <td>12.871118</td>\n",
       "    </tr>\n",
       "    <tr>\n",
       "      <th>1997-05-31</th>\n",
       "      <td>29.949821</td>\n",
       "      <td>26.306931</td>\n",
       "      <td>21.137037</td>\n",
       "      <td>15.778777</td>\n",
       "    </tr>\n",
       "    <tr>\n",
       "      <th>1997-06-30</th>\n",
       "      <td>31.806202</td>\n",
       "      <td>29.949821</td>\n",
       "      <td>26.306931</td>\n",
       "      <td>21.137037</td>\n",
       "    </tr>\n",
       "  </tbody>\n",
       "</table>\n",
       "</div>"
      ],
      "text/plain": [
       "                    t        t+1        t+2        t+3\n",
       "datetime                                              \n",
       "1997-02-28  15.778777  12.871118  13.816794  19.438944\n",
       "1997-03-31  21.137037  15.778777  12.871118  13.816794\n",
       "1997-04-30  26.306931  21.137037  15.778777  12.871118\n",
       "1997-05-31  29.949821  26.306931  21.137037  15.778777\n",
       "1997-06-30  31.806202  29.949821  26.306931  21.137037"
      ]
     },
     "execution_count": 3,
     "metadata": {},
     "output_type": "execute_result"
    }
   ],
   "source": [
    "tmp = data.Temperature\n",
    "tmp1 = tmp.shift(1)\n",
    "tmp2 = tmp.shift(2)\n",
    "tmp3 = tmp.shift(3)\n",
    "newdata = pd.concat([tmp, tmp1, tmp2, tmp3], axis = 1)\n",
    "newdata = newdata.dropna()\n",
    "newdata.columns = ['t', 't+1', 't+2', 't+3']\n",
    "newdata.head()"
   ]
  },
  {
   "cell_type": "code",
   "execution_count": 4,
   "metadata": {},
   "outputs": [],
   "source": [
    "split = int(newdata.shape[0] * 0.8)\n",
    "y = []\n",
    "y_hat = []"
   ]
  },
  {
   "cell_type": "code",
   "execution_count": 5,
   "metadata": {},
   "outputs": [
    {
     "name": "stdout",
     "output_type": "stream",
     "text": [
      ">>expected=12.187 >>predicted=14.622\n",
      ">>expected=16.878 >>predicted=17.166\n",
      ">>expected=23.030 >>predicted=22.416\n",
      ">>expected=29.000 >>predicted=30.551\n",
      ">>expected=33.716 >>predicted=31.989\n",
      ">>expected=32.387 >>predicted=31.323\n",
      ">>expected=30.702 >>predicted=30.872\n",
      ">>expected=29.489 >>predicted=29.730\n",
      ">>expected=29.867 >>predicted=29.342\n",
      ">>expected=26.035 >>predicted=24.653\n",
      ">>expected=18.807 >>predicted=19.923\n",
      ">>expected=15.171 >>predicted=15.101\n",
      ">>expected=13.455 >>predicted=12.429\n",
      ">>expected=15.721 >>predicted=17.416\n",
      ">>expected=21.594 >>predicted=22.376\n",
      ">>expected=28.067 >>predicted=25.454\n",
      ">>expected=31.413 >>predicted=32.405\n",
      ">>expected=34.771 >>predicted=32.457\n",
      ">>expected=32.258 >>predicted=33.716\n",
      ">>expected=31.079 >>predicted=29.769\n",
      ">>expected=29.767 >>predicted=29.156\n",
      ">>expected=26.506 >>predicted=25.239\n",
      ">>expected=20.104 >>predicted=21.132\n",
      ">>expected=14.780 >>predicted=14.853\n",
      ">>expected=12.713 >>predicted=15.647\n",
      ">>expected=18.766 >>predicted=16.788\n",
      ">>expected=21.555 >>predicted=20.955\n",
      ">>expected=28.025 >>predicted=33.250\n",
      ">>expected=33.344 >>predicted=29.963\n",
      ">>expected=32.737 >>predicted=29.868\n",
      ">>expected=30.386 >>predicted=31.689\n",
      ">>expected=30.236 >>predicted=31.347\n",
      ">>expected=30.665 >>predicted=29.506\n",
      ">>expected=26.817 >>predicted=26.205\n",
      ">>expected=20.754 >>predicted=16.035\n",
      ">>expected=14.976 >>predicted=13.688\n",
      ">>expected=15.008 >>predicted=15.482\n",
      ">>expected=19.524 >>predicted=23.555\n",
      ">>expected=25.696 >>predicted=26.583\n",
      ">>expected=32.558 >>predicted=32.493\n",
      ">>expected=34.750 >>predicted=33.629\n",
      ">>expected=34.941 >>predicted=31.668\n",
      ">>expected=30.889 >>predicted=33.538\n",
      ">>expected=31.008 >>predicted=30.134\n",
      ">>expected=31.524 >>predicted=30.020\n",
      ">>expected=28.965 >>predicted=24.158\n",
      ">>expected=23.039 >>predicted=19.831\n",
      ">>expected=17.734 >>predicted=16.150\n",
      ">>expected=15.777 >>predicted=12.706\n"
     ]
    }
   ],
   "source": [
    "for i in range(split, len(newdata)):\n",
    "    train, test = newdata.iloc[:i, :], newdata.iloc[i:, :]\n",
    "    X_train, y_train = train.iloc[:, :-1], train.iloc[:, -1]\n",
    "    X_test, y_test = test.iloc[:, :-1], test.iloc[:, -1]\n",
    "    model = XGBRegressor(objective='reg:squarederror', n_estimators=1000)\n",
    "    model.fit(X_train, y_train)\n",
    "    y.append(y_test.iloc[0])\n",
    "    y_hat.append(model.predict(X_test)[0])\n",
    "    print(\">>expected={:.3f} >>predicted={:.3f}\".format(y[-1], y_hat[-1]))"
   ]
  },
  {
   "cell_type": "code",
   "execution_count": 6,
   "metadata": {},
   "outputs": [
    {
     "data": {
      "text/plain": [
       "0.9112415460781955"
      ]
     },
     "execution_count": 6,
     "metadata": {},
     "output_type": "execute_result"
    }
   ],
   "source": [
    "from sklearn.metrics import r2_score, mean_absolute_error\n",
    "r2_score(y, y_hat)"
   ]
  },
  {
   "cell_type": "code",
   "execution_count": 7,
   "metadata": {},
   "outputs": [
    {
     "data": {
      "image/png": "[encoded data removed]",
      "text/plain": [
       "<Figure size 432x288 with 1 Axes>"
      ]
     },
     "metadata": {
      "needs_background": "light"
     },
     "output_type": "display_data"
    }
   ],
   "source": [
    "plt.plot(y, label = 'expected')\n",
    "plt.plot(y_hat, label = 'predicted')\n",
    "plt.legend()\n",
    "plt.show()"
   ]
  },
  {
   "cell_type": "code",
   "execution_count": null,
   "metadata": {},
   "outputs": [],
   "source": []
  }
 ],
 "metadata": {
  "kernelspec": {
   "display_name": "Python 3",
   "language": "python",
   "name": "python3"
  },
  "language_info": {
   "codemirror_mode": {
    "name": "ipython",
    "version": 3
   },
   "file_extension": ".py",
   "mimetype": "text/x-python",
   "name": "python",
   "nbconvert_exporter": "python",
   "pygments_lexer": "ipython3",
   "version": "3.7.3"
  }
 },
 "nbformat": 4,
 "nbformat_minor": 2
}
